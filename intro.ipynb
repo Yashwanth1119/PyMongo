{
 "cells": [
  {
   "cell_type": "markdown",
   "metadata": {},
   "source": [
    "# ***PyMongo***"
   ]
  },
  {
   "cell_type": "code",
   "execution_count": 4,
   "metadata": {},
   "outputs": [],
   "source": [
    "# Prerequisies\n",
    "import pymongo"
   ]
  },
  {
   "cell_type": "code",
   "execution_count": 5,
   "metadata": {},
   "outputs": [],
   "source": [
    "# Making a connection with MongoClient\n",
    "from pymongo import MongoClient\n",
    "client = MongoClient(\"localhost\", 27017)"
   ]
  },
  {
   "cell_type": "code",
   "execution_count": 6,
   "metadata": {},
   "outputs": [],
   "source": [
    "# Getting a database\n",
    "db = client[\"test-database\"]"
   ]
  },
  {
   "cell_type": "code",
   "execution_count": 7,
   "metadata": {},
   "outputs": [],
   "source": [
    "# Getting a collection\n",
    "collection = db[\"test-collecttion\"]"
   ]
  },
  {
   "cell_type": "code",
   "execution_count": 8,
   "metadata": {},
   "outputs": [],
   "source": [
    "# blog post\n",
    "import datetime\n",
    "post={\n",
    "    \"author\": \"Yash\",\n",
    "    \"text\": \"My first blog post\",\n",
    "    \"tags\": [\"mongodb\",\"python\", \"pymongo\"],\n",
    "    \"date\": datetime.datetime.now(tz=datetime.timezone.utc),\n",
    "}"
   ]
  },
  {
   "cell_type": "code",
   "execution_count": 9,
   "metadata": {},
   "outputs": [],
   "source": [
    "# inserting a document\n",
    "posts = db.posts"
   ]
  },
  {
   "cell_type": "code",
   "execution_count": 10,
   "metadata": {},
   "outputs": [],
   "source": [
    "post_id = posts.insert_one(post).inserted_id"
   ]
  },
  {
   "cell_type": "code",
   "execution_count": 11,
   "metadata": {},
   "outputs": [
    {
     "data": {
      "text/plain": [
       "ObjectId('64bcb71e31b116af8bd08870')"
      ]
     },
     "execution_count": 11,
     "metadata": {},
     "output_type": "execute_result"
    }
   ],
   "source": [
    "post_id"
   ]
  },
  {
   "cell_type": "code",
   "execution_count": 12,
   "metadata": {},
   "outputs": [
    {
     "data": {
      "text/plain": [
       "['posts']"
      ]
     },
     "execution_count": 12,
     "metadata": {},
     "output_type": "execute_result"
    }
   ],
   "source": [
    "db.list_collection_names()"
   ]
  },
  {
   "cell_type": "code",
   "execution_count": 13,
   "metadata": {},
   "outputs": [
    {
     "name": "stdout",
     "output_type": "stream",
     "text": [
      "{'_id': ObjectId('64bcb71e31b116af8bd08870'),\n",
      " 'author': 'Yash',\n",
      " 'date': datetime.datetime(2023, 7, 23, 5, 14, 5, 821000),\n",
      " 'tags': ['mongodb', 'python', 'pymongo'],\n",
      " 'text': 'My first blog post'}\n"
     ]
    }
   ],
   "source": [
    "# Getting a single document with\n",
    "import pprint\n",
    "pprint.pprint(posts.find_one())"
   ]
  },
  {
   "cell_type": "code",
   "execution_count": 14,
   "metadata": {},
   "outputs": [
    {
     "name": "stdout",
     "output_type": "stream",
     "text": [
      "{'_id': ObjectId('64bcb71e31b116af8bd08870'),\n",
      " 'author': 'Yash',\n",
      " 'date': datetime.datetime(2023, 7, 23, 5, 14, 5, 821000),\n",
      " 'tags': ['mongodb', 'python', 'pymongo'],\n",
      " 'text': 'My first blog post'}\n"
     ]
    }
   ],
   "source": [
    "pprint.pprint(posts.find_one({\"author\": \"Yash\"}))"
   ]
  },
  {
   "cell_type": "code",
   "execution_count": 15,
   "metadata": {},
   "outputs": [],
   "source": [
    "# no result\n",
    "posts.find_one({\"author\": \"Eliot\"})"
   ]
  },
  {
   "cell_type": "code",
   "execution_count": 16,
   "metadata": {},
   "outputs": [
    {
     "data": {
      "text/plain": [
       "ObjectId('64bcb71e31b116af8bd08870')"
      ]
     },
     "execution_count": 16,
     "metadata": {},
     "output_type": "execute_result"
    }
   ],
   "source": [
    "# Querying by  ObjectId\n",
    "post_id"
   ]
  },
  {
   "cell_type": "code",
   "execution_count": 17,
   "metadata": {},
   "outputs": [
    {
     "name": "stdout",
     "output_type": "stream",
     "text": [
      "{'_id': ObjectId('64bcb71e31b116af8bd08870'),\n",
      " 'author': 'Yash',\n",
      " 'date': datetime.datetime(2023, 7, 23, 5, 14, 5, 821000),\n",
      " 'tags': ['mongodb', 'python', 'pymongo'],\n",
      " 'text': 'My first blog post'}\n"
     ]
    }
   ],
   "source": [
    "pprint.pprint(posts.find_one({\"_id\": post_id}))"
   ]
  },
  {
   "cell_type": "code",
   "execution_count": 18,
   "metadata": {},
   "outputs": [],
   "source": [
    "# convert the objectid from a string\n",
    "from bson.objectid import ObjectId\n",
    "# The web framework gets post_id from the URL and passes it as a string\n",
    "def get(post_id):\n",
    "    # Convert from string to ObjectId:\n",
    "    document = client.db.collection.find_one({'_id': ObjectId(post_id)})"
   ]
  },
  {
   "cell_type": "code",
   "execution_count": 19,
   "metadata": {},
   "outputs": [],
   "source": [
    "# Bulk inserts\n",
    "new_posts = [\n",
    "    {\n",
    "        \"author\":\"David\",\n",
    "        \"text\": \"Another post\",\n",
    "        \"tags\": [\"bulk\",\"insert\"],\n",
    "        \"date\": datetime.datetime(2009, 11, 12, 11, 14),\n",
    "    },\n",
    "    {\n",
    "        \"author\": \"Sam\",\n",
    "        \"title\": \"Mongodb\",\n",
    "        \"text\": \"most used tool in industry\",\n",
    "        \"date\": datetime.datetime(2009, 11, 10, 10, 45),\n",
    "    },\n",
    "]"
   ]
  },
  {
   "cell_type": "code",
   "execution_count": 20,
   "metadata": {},
   "outputs": [],
   "source": [
    "result = posts.insert_many(new_posts)"
   ]
  },
  {
   "cell_type": "code",
   "execution_count": 21,
   "metadata": {},
   "outputs": [
    {
     "data": {
      "text/plain": [
       "[ObjectId('64bcb80331b116af8bd08871'), ObjectId('64bcb80331b116af8bd08872')]"
      ]
     },
     "execution_count": 21,
     "metadata": {},
     "output_type": "execute_result"
    }
   ],
   "source": [
    "result.inserted_ids"
   ]
  },
  {
   "cell_type": "markdown",
   "metadata": {},
   "source": [
    "The result from insert_many() now returns two ObjectId instances, one for each inserted document.\n",
    "\n",
    "new_posts[1] has a different “shape” than the other posts - there is no \"tags\" field and we’ve added a new field, \"title\". This is what we mean when we say that MongoDB is schema-free."
   ]
  },
  {
   "cell_type": "code",
   "execution_count": 22,
   "metadata": {},
   "outputs": [
    {
     "name": "stdout",
     "output_type": "stream",
     "text": [
      "{'_id': ObjectId('64bcb71e31b116af8bd08870'),\n",
      " 'author': 'Yash',\n",
      " 'date': datetime.datetime(2023, 7, 23, 5, 14, 5, 821000),\n",
      " 'tags': ['mongodb', 'python', 'pymongo'],\n",
      " 'text': 'My first blog post'}\n",
      "{'_id': ObjectId('64bcb80331b116af8bd08871'),\n",
      " 'author': 'David',\n",
      " 'date': datetime.datetime(2009, 11, 12, 11, 14),\n",
      " 'tags': ['bulk', 'insert'],\n",
      " 'text': 'Another post'}\n",
      "{'_id': ObjectId('64bcb80331b116af8bd08872'),\n",
      " 'author': 'Sam',\n",
      " 'date': datetime.datetime(2009, 11, 10, 10, 45),\n",
      " 'text': 'most used tool in industry',\n",
      " 'title': 'Mongodb'}\n"
     ]
    }
   ],
   "source": [
    "# querying for more than one document\n",
    "for post in posts.find():\n",
    "    pprint.pprint(post)"
   ]
  },
  {
   "cell_type": "code",
   "execution_count": 23,
   "metadata": {},
   "outputs": [
    {
     "name": "stdout",
     "output_type": "stream",
     "text": [
      "{'_id': ObjectId('64bcb71e31b116af8bd08870'),\n",
      " 'author': 'Yash',\n",
      " 'date': datetime.datetime(2023, 7, 23, 5, 14, 5, 821000),\n",
      " 'tags': ['mongodb', 'python', 'pymongo'],\n",
      " 'text': 'My first blog post'}\n"
     ]
    }
   ],
   "source": [
    "# Just like we did with find_one(), we can pass a document to find() to limit the returned results.\n",
    "for post in posts.find({\"author\": \"Yash\"}):\n",
    "    pprint.pprint(post)"
   ]
  },
  {
   "cell_type": "code",
   "execution_count": 24,
   "metadata": {},
   "outputs": [
    {
     "data": {
      "text/plain": [
       "3"
      ]
     },
     "execution_count": 24,
     "metadata": {},
     "output_type": "execute_result"
    }
   ],
   "source": [
    "# counting\n",
    "# If we just want to know how many documents match a query we can perform a count_documents() operation instead of a full query. We can get a count of all of the documents in a collection\n",
    "posts.count_documents({})"
   ]
  },
  {
   "cell_type": "code",
   "execution_count": 26,
   "metadata": {},
   "outputs": [
    {
     "data": {
      "text/plain": [
       "0"
      ]
     },
     "execution_count": 26,
     "metadata": {},
     "output_type": "execute_result"
    }
   ],
   "source": [
    "posts.count_documents({\"author\":\"sam\"})"
   ]
  },
  {
   "cell_type": "code",
   "execution_count": 27,
   "metadata": {},
   "outputs": [
    {
     "name": "stdout",
     "output_type": "stream",
     "text": [
      "{'_id': ObjectId('64bcb80331b116af8bd08871'),\n",
      " 'author': 'David',\n",
      " 'date': datetime.datetime(2009, 11, 12, 11, 14),\n",
      " 'tags': ['bulk', 'insert'],\n",
      " 'text': 'Another post'}\n",
      "{'_id': ObjectId('64bcb80331b116af8bd08872'),\n",
      " 'author': 'Sam',\n",
      " 'date': datetime.datetime(2009, 11, 10, 10, 45),\n",
      " 'text': 'most used tool in industry',\n",
      " 'title': 'Mongodb'}\n"
     ]
    }
   ],
   "source": [
    "# Range queries\n",
    "# Lets perform a query where we limit results to posts older than a certain date, but also sort the results by author\n",
    "d = datetime.datetime(2009, 11, 12, 12)\n",
    "for post in posts.find({\"date\": {\"$lt\": d}}).sort(\"author\"):\n",
    "    pprint.pprint(post)"
   ]
  },
  {
   "cell_type": "code",
   "execution_count": 28,
   "metadata": {},
   "outputs": [
    {
     "data": {
      "text/plain": [
       "['_id_', 'user_id_1']"
      ]
     },
     "execution_count": 28,
     "metadata": {},
     "output_type": "execute_result"
    }
   ],
   "source": [
    "# Indexing\n",
    "result = db.profiles.create_index([(\"user_id\", pymongo.ASCENDING)], unique=True)\n",
    "sorted(list(db.profiles.index_information()))"
   ]
  },
  {
   "cell_type": "code",
   "execution_count": 29,
   "metadata": {},
   "outputs": [],
   "source": [
    "user_profiles = [{\"user_id\": 211, \"name\": \"Luke\"}, {\"user_id\": 212, \"name\": \"Manju\"}]\n",
    "result = db.profiles.insert_many(user_profiles)"
   ]
  },
  {
   "cell_type": "code",
   "execution_count": 30,
   "metadata": {},
   "outputs": [
    {
     "ename": "DuplicateKeyError",
     "evalue": "E11000 duplicate key error collection: test-database.profiles index: user_id_1 dup key: { : 212 }, full error: {'index': 0, 'code': 11000, 'errmsg': 'E11000 duplicate key error collection: test-database.profiles index: user_id_1 dup key: { : 212 }'}",
     "output_type": "error",
     "traceback": [
      "\u001b[0;31m---------------------------------------------------------------------------\u001b[0m",
      "\u001b[0;31mDuplicateKeyError\u001b[0m                         Traceback (most recent call last)",
      "Cell \u001b[0;32mIn[30], line 4\u001b[0m\n\u001b[1;32m      2\u001b[0m duplicate_profile \u001b[38;5;241m=\u001b[39m {\u001b[38;5;124m\"\u001b[39m\u001b[38;5;124muser_id\u001b[39m\u001b[38;5;124m\"\u001b[39m: \u001b[38;5;241m212\u001b[39m, \u001b[38;5;124m\"\u001b[39m\u001b[38;5;124mname\u001b[39m\u001b[38;5;124m\"\u001b[39m: \u001b[38;5;124m\"\u001b[39m\u001b[38;5;124mTommy\u001b[39m\u001b[38;5;124m\"\u001b[39m}\n\u001b[1;32m      3\u001b[0m result \u001b[38;5;241m=\u001b[39m db\u001b[38;5;241m.\u001b[39mprofiles\u001b[38;5;241m.\u001b[39minsert_one(new_profile)  \u001b[38;5;66;03m# This is fine.\u001b[39;00m\n\u001b[0;32m----> 4\u001b[0m result \u001b[38;5;241m=\u001b[39m \u001b[43mdb\u001b[49m\u001b[38;5;241;43m.\u001b[39;49m\u001b[43mprofiles\u001b[49m\u001b[38;5;241;43m.\u001b[39;49m\u001b[43minsert_one\u001b[49m\u001b[43m(\u001b[49m\u001b[43mduplicate_profile\u001b[49m\u001b[43m)\u001b[49m\n",
      "File \u001b[0;32m~/.local/lib/python3.8/site-packages/pymongo/collection.py:639\u001b[0m, in \u001b[0;36mCollection.insert_one\u001b[0;34m(self, document, bypass_document_validation, session, comment)\u001b[0m\n\u001b[1;32m    635\u001b[0m     document[\u001b[39m\"\u001b[39m\u001b[39m_id\u001b[39m\u001b[39m\"\u001b[39m] \u001b[39m=\u001b[39m ObjectId()  \u001b[39m# type: ignore[index]\u001b[39;00m\n\u001b[1;32m    637\u001b[0m write_concern \u001b[39m=\u001b[39m \u001b[39mself\u001b[39m\u001b[39m.\u001b[39m_write_concern_for(session)\n\u001b[1;32m    638\u001b[0m \u001b[39mreturn\u001b[39;00m InsertOneResult(\n\u001b[0;32m--> 639\u001b[0m     \u001b[39mself\u001b[39;49m\u001b[39m.\u001b[39;49m_insert_one(\n\u001b[1;32m    640\u001b[0m         document,\n\u001b[1;32m    641\u001b[0m         ordered\u001b[39m=\u001b[39;49m\u001b[39mTrue\u001b[39;49;00m,\n\u001b[1;32m    642\u001b[0m         write_concern\u001b[39m=\u001b[39;49mwrite_concern,\n\u001b[1;32m    643\u001b[0m         op_id\u001b[39m=\u001b[39;49m\u001b[39mNone\u001b[39;49;00m,\n\u001b[1;32m    644\u001b[0m         bypass_doc_val\u001b[39m=\u001b[39;49mbypass_document_validation,\n\u001b[1;32m    645\u001b[0m         session\u001b[39m=\u001b[39;49msession,\n\u001b[1;32m    646\u001b[0m         comment\u001b[39m=\u001b[39;49mcomment,\n\u001b[1;32m    647\u001b[0m     ),\n\u001b[1;32m    648\u001b[0m     write_concern\u001b[39m.\u001b[39macknowledged,\n\u001b[1;32m    649\u001b[0m )\n",
      "File \u001b[0;32m~/.local/lib/python3.8/site-packages/pymongo/collection.py:579\u001b[0m, in \u001b[0;36mCollection._insert_one\u001b[0;34m(self, doc, ordered, write_concern, op_id, bypass_doc_val, session, comment)\u001b[0m\n\u001b[1;32m    567\u001b[0m     result \u001b[39m=\u001b[39m sock_info\u001b[39m.\u001b[39mcommand(\n\u001b[1;32m    568\u001b[0m         \u001b[39mself\u001b[39m\u001b[39m.\u001b[39m__database\u001b[39m.\u001b[39mname,\n\u001b[1;32m    569\u001b[0m         command,\n\u001b[0;32m   (...)\u001b[0m\n\u001b[1;32m    574\u001b[0m         retryable_write\u001b[39m=\u001b[39mretryable_write,\n\u001b[1;32m    575\u001b[0m     )\n\u001b[1;32m    577\u001b[0m     _check_write_command_response(result)\n\u001b[0;32m--> 579\u001b[0m \u001b[39mself\u001b[39;49m\u001b[39m.\u001b[39;49m__database\u001b[39m.\u001b[39;49mclient\u001b[39m.\u001b[39;49m_retryable_write(acknowledged, _insert_command, session)\n\u001b[1;32m    581\u001b[0m \u001b[39mif\u001b[39;00m \u001b[39mnot\u001b[39;00m \u001b[39misinstance\u001b[39m(doc, RawBSONDocument):\n\u001b[1;32m    582\u001b[0m     \u001b[39mreturn\u001b[39;00m doc\u001b[39m.\u001b[39mget(\u001b[39m\"\u001b[39m\u001b[39m_id\u001b[39m\u001b[39m\"\u001b[39m)\n",
      "File \u001b[0;32m~/.local/lib/python3.8/site-packages/pymongo/mongo_client.py:1493\u001b[0m, in \u001b[0;36mMongoClient._retryable_write\u001b[0;34m(self, retryable, func, session)\u001b[0m\n\u001b[1;32m   1491\u001b[0m \u001b[39m\u001b[39m\u001b[39m\"\"\"Internal retryable write helper.\"\"\"\u001b[39;00m\n\u001b[1;32m   1492\u001b[0m \u001b[39mwith\u001b[39;00m \u001b[39mself\u001b[39m\u001b[39m.\u001b[39m_tmp_session(session) \u001b[39mas\u001b[39;00m s:\n\u001b[0;32m-> 1493\u001b[0m     \u001b[39mreturn\u001b[39;00m \u001b[39mself\u001b[39;49m\u001b[39m.\u001b[39;49m_retry_with_session(retryable, func, s, \u001b[39mNone\u001b[39;49;00m)\n",
      "File \u001b[0;32m~/.local/lib/python3.8/site-packages/pymongo/mongo_client.py:1360\u001b[0m, in \u001b[0;36mMongoClient._retry_with_session\u001b[0;34m(self, retryable, func, session, bulk)\u001b[0m\n\u001b[1;32m   1350\u001b[0m \u001b[39m\u001b[39m\u001b[39m\"\"\"Execute an operation with at most one consecutive retries\u001b[39;00m\n\u001b[1;32m   1351\u001b[0m \n\u001b[1;32m   1352\u001b[0m \u001b[39mReturns func()'s return value on success. On error retries the same\u001b[39;00m\n\u001b[0;32m   (...)\u001b[0m\n\u001b[1;32m   1355\u001b[0m \u001b[39mRe-raises any exception thrown by func().\u001b[39;00m\n\u001b[1;32m   1356\u001b[0m \u001b[39m\"\"\"\u001b[39;00m\n\u001b[1;32m   1357\u001b[0m retryable \u001b[39m=\u001b[39m (\n\u001b[1;32m   1358\u001b[0m     retryable \u001b[39mand\u001b[39;00m \u001b[39mself\u001b[39m\u001b[39m.\u001b[39moptions\u001b[39m.\u001b[39mretry_writes \u001b[39mand\u001b[39;00m session \u001b[39mand\u001b[39;00m \u001b[39mnot\u001b[39;00m session\u001b[39m.\u001b[39min_transaction\n\u001b[1;32m   1359\u001b[0m )\n\u001b[0;32m-> 1360\u001b[0m \u001b[39mreturn\u001b[39;00m \u001b[39mself\u001b[39;49m\u001b[39m.\u001b[39;49m_retry_internal(retryable, func, session, bulk)\n",
      "File \u001b[0;32m~/.local/lib/python3.8/site-packages/pymongo/_csot.py:106\u001b[0m, in \u001b[0;36mapply.<locals>.csot_wrapper\u001b[0;34m(self, *args, **kwargs)\u001b[0m\n\u001b[1;32m    104\u001b[0m         \u001b[39mwith\u001b[39;00m _TimeoutContext(timeout):\n\u001b[1;32m    105\u001b[0m             \u001b[39mreturn\u001b[39;00m func(\u001b[39mself\u001b[39m, \u001b[39m*\u001b[39margs, \u001b[39m*\u001b[39m\u001b[39m*\u001b[39mkwargs)\n\u001b[0;32m--> 106\u001b[0m \u001b[39mreturn\u001b[39;00m func(\u001b[39mself\u001b[39;49m, \u001b[39m*\u001b[39;49margs, \u001b[39m*\u001b[39;49m\u001b[39m*\u001b[39;49mkwargs)\n",
      "File \u001b[0;32m~/.local/lib/python3.8/site-packages/pymongo/mongo_client.py:1401\u001b[0m, in \u001b[0;36mMongoClient._retry_internal\u001b[0;34m(self, retryable, func, session, bulk)\u001b[0m\n\u001b[1;32m   1399\u001b[0m                 \u001b[39mraise\u001b[39;00m last_error\n\u001b[1;32m   1400\u001b[0m             retryable \u001b[39m=\u001b[39m \u001b[39mFalse\u001b[39;00m\n\u001b[0;32m-> 1401\u001b[0m         \u001b[39mreturn\u001b[39;00m func(session, sock_info, retryable)\n\u001b[1;32m   1402\u001b[0m \u001b[39mexcept\u001b[39;00m ServerSelectionTimeoutError:\n\u001b[1;32m   1403\u001b[0m     \u001b[39mif\u001b[39;00m is_retrying():\n\u001b[1;32m   1404\u001b[0m         \u001b[39m# The application may think the write was never attempted\u001b[39;00m\n\u001b[1;32m   1405\u001b[0m         \u001b[39m# if we raise ServerSelectionTimeoutError on the retry\u001b[39;00m\n\u001b[1;32m   1406\u001b[0m         \u001b[39m# attempt. Raise the original exception instead.\u001b[39;00m\n",
      "File \u001b[0;32m~/.local/lib/python3.8/site-packages/pymongo/collection.py:577\u001b[0m, in \u001b[0;36mCollection._insert_one.<locals>._insert_command\u001b[0;34m(session, sock_info, retryable_write)\u001b[0m\n\u001b[1;32m    565\u001b[0m     command[\u001b[39m\"\u001b[39m\u001b[39mbypassDocumentValidation\u001b[39m\u001b[39m\"\u001b[39m] \u001b[39m=\u001b[39m \u001b[39mTrue\u001b[39;00m\n\u001b[1;32m    567\u001b[0m result \u001b[39m=\u001b[39m sock_info\u001b[39m.\u001b[39mcommand(\n\u001b[1;32m    568\u001b[0m     \u001b[39mself\u001b[39m\u001b[39m.\u001b[39m__database\u001b[39m.\u001b[39mname,\n\u001b[1;32m    569\u001b[0m     command,\n\u001b[0;32m   (...)\u001b[0m\n\u001b[1;32m    574\u001b[0m     retryable_write\u001b[39m=\u001b[39mretryable_write,\n\u001b[1;32m    575\u001b[0m )\n\u001b[0;32m--> 577\u001b[0m _check_write_command_response(result)\n",
      "File \u001b[0;32m~/.local/lib/python3.8/site-packages/pymongo/helpers.py:230\u001b[0m, in \u001b[0;36m_check_write_command_response\u001b[0;34m(result)\u001b[0m\n\u001b[1;32m    228\u001b[0m write_errors \u001b[39m=\u001b[39m result\u001b[39m.\u001b[39mget(\u001b[39m\"\u001b[39m\u001b[39mwriteErrors\u001b[39m\u001b[39m\"\u001b[39m)\n\u001b[1;32m    229\u001b[0m \u001b[39mif\u001b[39;00m write_errors:\n\u001b[0;32m--> 230\u001b[0m     _raise_last_write_error(write_errors)\n\u001b[1;32m    232\u001b[0m wce \u001b[39m=\u001b[39m _get_wce_doc(result)\n\u001b[1;32m    233\u001b[0m \u001b[39mif\u001b[39;00m wce:\n",
      "File \u001b[0;32m~/.local/lib/python3.8/site-packages/pymongo/helpers.py:202\u001b[0m, in \u001b[0;36m_raise_last_write_error\u001b[0;34m(write_errors)\u001b[0m\n\u001b[1;32m    200\u001b[0m error \u001b[39m=\u001b[39m write_errors[\u001b[39m-\u001b[39m\u001b[39m1\u001b[39m]\n\u001b[1;32m    201\u001b[0m \u001b[39mif\u001b[39;00m error\u001b[39m.\u001b[39mget(\u001b[39m\"\u001b[39m\u001b[39mcode\u001b[39m\u001b[39m\"\u001b[39m) \u001b[39m==\u001b[39m \u001b[39m11000\u001b[39m:\n\u001b[0;32m--> 202\u001b[0m     \u001b[39mraise\u001b[39;00m DuplicateKeyError(error\u001b[39m.\u001b[39mget(\u001b[39m\"\u001b[39m\u001b[39merrmsg\u001b[39m\u001b[39m\"\u001b[39m), \u001b[39m11000\u001b[39m, error)\n\u001b[1;32m    203\u001b[0m \u001b[39mraise\u001b[39;00m WriteError(error\u001b[39m.\u001b[39mget(\u001b[39m\"\u001b[39m\u001b[39merrmsg\u001b[39m\u001b[39m\"\u001b[39m), error\u001b[39m.\u001b[39mget(\u001b[39m\"\u001b[39m\u001b[39mcode\u001b[39m\u001b[39m\"\u001b[39m), error)\n",
      "\u001b[0;31mDuplicateKeyError\u001b[0m: E11000 duplicate key error collection: test-database.profiles index: user_id_1 dup key: { : 212 }, full error: {'index': 0, 'code': 11000, 'errmsg': 'E11000 duplicate key error collection: test-database.profiles index: user_id_1 dup key: { : 212 }'}"
     ]
    }
   ],
   "source": [
    "# The index prevents us from inserting a document whose user_id is already in the collection:\n",
    "new_profile = {\"user_id\": 213, \"name\": \"Drew\"}\n",
    "duplicate_profile = {\"user_id\": 212, \"name\": \"Tommy\"}\n",
    "result = db.profiles.insert_one(new_profile)  # This is fine.\n",
    "result = db.profiles.insert_one(duplicate_profile)"
   ]
  },
  {
   "cell_type": "code",
   "execution_count": null,
   "metadata": {},
   "outputs": [],
   "source": []
  }
 ],
 "metadata": {
  "kernelspec": {
   "display_name": "Python 3.8.10 64-bit",
   "language": "python",
   "name": "python3"
  },
  "language_info": {
   "codemirror_mode": {
    "name": "ipython",
    "version": 3
   },
   "file_extension": ".py",
   "mimetype": "text/x-python",
   "name": "python",
   "nbconvert_exporter": "python",
   "pygments_lexer": "ipython3",
   "version": "3.8.10"
  },
  "orig_nbformat": 4,
  "vscode": {
   "interpreter": {
    "hash": "e7370f93d1d0cde622a1f8e1c04877d8463912d04d973331ad4851f04de6915a"
   }
  }
 },
 "nbformat": 4,
 "nbformat_minor": 2
}
