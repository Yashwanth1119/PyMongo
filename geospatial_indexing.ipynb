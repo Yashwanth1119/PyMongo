{
 "cells": [
  {
   "cell_type": "markdown",
   "metadata": {},
   "source": [
    "# ***Geospatial Indexing***"
   ]
  },
  {
   "cell_type": "markdown",
   "metadata": {},
   "source": [
    "*This example shows how to create and use a GEO2D index in PyMongo. To create a spherical (earth-like) geospatial index use GEOSPHERE instead.*"
   ]
  },
  {
   "cell_type": "code",
   "execution_count": 1,
   "metadata": {},
   "outputs": [
    {
     "data": {
      "text/plain": [
       "'loc_2d'"
      ]
     },
     "execution_count": 1,
     "metadata": {},
     "output_type": "execute_result"
    }
   ],
   "source": [
    "# creating a geospatial index\n",
    "from pymongo import MongoClient, GEO2D\n",
    "db = MongoClient().geo_example\n",
    "db.places.create_index([(\"loc\", GEO2D)])"
   ]
  },
  {
   "cell_type": "code",
   "execution_count": 2,
   "metadata": {},
   "outputs": [
    {
     "data": {
      "text/plain": [
       "[ObjectId('64bcc95395fe54cb411ce9a7'),\n",
       " ObjectId('64bcc95395fe54cb411ce9a8'),\n",
       " ObjectId('64bcc95395fe54cb411ce9a9'),\n",
       " ObjectId('64bcc95395fe54cb411ce9aa')]"
      ]
     },
     "execution_count": 2,
     "metadata": {},
     "output_type": "execute_result"
    }
   ],
   "source": [
    "# Inserting places\n",
    "# Locations in MongoDB are represented using either embedded documents or lists where the first two elements are coordinates. Here, we’ll insert a couple of example locations\n",
    "result = db.places.insert_many(\n",
    "    [{\"loc\": [2,5]}, {\"loc\": [30,5]}, {\"loc\": [1,2]},{\"loc\": [4,4]}]\n",
    ")\n",
    "result.inserted_ids"
   ]
  },
  {
   "cell_type": "markdown",
   "metadata": {},
   "source": [
    "### *Querying*"
   ]
  },
  {
   "cell_type": "code",
   "execution_count": 3,
   "metadata": {},
   "outputs": [
    {
     "name": "stdout",
     "output_type": "stream",
     "text": [
      "{'_id': ObjectId('64bcc95395fe54cb411ce9a7'), 'loc': [2, 5]}\n",
      "{'_id': ObjectId('64bcc95395fe54cb411ce9aa'), 'loc': [4, 4]}\n",
      "{'_id': ObjectId('64bcc95395fe54cb411ce9a9'), 'loc': [1, 2]}\n"
     ]
    }
   ],
   "source": [
    "# using the geospatial index we can find documents near another point\n",
    "import pprint\n",
    "for doc in db.places.find({\"loc\": {\"$near\": [3,6]}}).limit(3):\n",
    "    pprint.pprint(doc)"
   ]
  },
  {
   "cell_type": "code",
   "execution_count": 4,
   "metadata": {},
   "outputs": [
    {
     "name": "stdout",
     "output_type": "stream",
     "text": [
      "{'_id': ObjectId('64bcc95395fe54cb411ce9a7'), 'loc': [2, 5]}\n",
      "{'_id': ObjectId('64bcc95395fe54cb411ce9aa'), 'loc': [4, 4]}\n",
      "{'_id': ObjectId('64bcc95395fe54cb411ce9a9'), 'loc': [1, 2]}\n"
     ]
    }
   ],
   "source": [
    "from bson.son import SON \n",
    "query = {\"loc\": SON([(\"$near\", [3, 6]), (\"$maxDistance\", 100)])}\n",
    "for doc in db.places.find(query).limit(3):\n",
    "    pprint.pprint(doc)"
   ]
  },
  {
   "cell_type": "code",
   "execution_count": 5,
   "metadata": {},
   "outputs": [
    {
     "name": "stdout",
     "output_type": "stream",
     "text": [
      "{'_id': ObjectId('64bcc95395fe54cb411ce9a7'), 'loc': [2, 5]}\n",
      "{'_id': ObjectId('64bcc95395fe54cb411ce9aa'), 'loc': [4, 4]}\n"
     ]
    }
   ],
   "source": [
    "query = {\"loc\": {\"$within\": {\"$box\": [[2, 2], [5, 6]]}}}\n",
    "for doc in db.places.find(query).sort(\"_id\"):\n",
    "    pprint.pprint(doc)"
   ]
  },
  {
   "cell_type": "code",
   "execution_count": 6,
   "metadata": {},
   "outputs": [
    {
     "name": "stdout",
     "output_type": "stream",
     "text": [
      "{'_id': ObjectId('64bcc95395fe54cb411ce9a7'), 'loc': [2, 5]}\n",
      "{'_id': ObjectId('64bcc95395fe54cb411ce9a9'), 'loc': [1, 2]}\n",
      "{'_id': ObjectId('64bcc95395fe54cb411ce9aa'), 'loc': [4, 4]}\n"
     ]
    }
   ],
   "source": [
    "query = {\"loc\": {\"$within\": {\"$center\": [[0, 0], 6]}}}\n",
    "for doc in db.places.find(query).sort(\"_id\"):\n",
    "    pprint.pprint(doc)"
   ]
  },
  {
   "cell_type": "code",
   "execution_count": 7,
   "metadata": {},
   "outputs": [
    {
     "data": {
      "text/plain": [
       "{'results': [{'dis': 0.0,\n",
       "   'obj': {'_id': ObjectId('64bcc95395fe54cb411ce9a9'), 'loc': [1, 2]}},\n",
       "  {'dis': 3.1622776601683795,\n",
       "   'obj': {'_id': ObjectId('64bcc95395fe54cb411ce9a7'), 'loc': [2, 5]}},\n",
       "  {'dis': 3.605551275463989,\n",
       "   'obj': {'_id': ObjectId('64bcc95395fe54cb411ce9aa'), 'loc': [4, 4]}},\n",
       "  {'dis': 29.154759474226502,\n",
       "   'obj': {'_id': ObjectId('64bcc95395fe54cb411ce9a8'), 'loc': [30, 5]}}],\n",
       " 'stats': {'nscanned': 47,\n",
       "  'objectsLoaded': 4,\n",
       "  'avgDistance': 8.980647102464717,\n",
       "  'maxDistance': 29.154759474226502,\n",
       "  'time': 2428},\n",
       " 'ok': 1.0}"
      ]
     },
     "execution_count": 7,
     "metadata": {},
     "output_type": "execute_result"
    }
   ],
   "source": [
    "from bson.son import SON\n",
    "db.command(SON([('geoNear', 'places'), ('near', [1, 2])]))"
   ]
  },
  {
   "cell_type": "code",
   "execution_count": null,
   "metadata": {},
   "outputs": [],
   "source": []
  }
 ],
 "metadata": {
  "kernelspec": {
   "display_name": "Python 3.8.10 64-bit",
   "language": "python",
   "name": "python3"
  },
  "language_info": {
   "codemirror_mode": {
    "name": "ipython",
    "version": 3
   },
   "file_extension": ".py",
   "mimetype": "text/x-python",
   "name": "python",
   "nbconvert_exporter": "python",
   "pygments_lexer": "ipython3",
   "version": "3.8.10"
  },
  "orig_nbformat": 4,
  "vscode": {
   "interpreter": {
    "hash": "e7370f93d1d0cde622a1f8e1c04877d8463912d04d973331ad4851f04de6915a"
   }
  }
 },
 "nbformat": 4,
 "nbformat_minor": 2
}
